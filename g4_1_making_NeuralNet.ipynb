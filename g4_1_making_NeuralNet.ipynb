{
 "cells": [
  {
   "cell_type": "markdown",
   "metadata": {},
   "source": [
    "# step 37. Tensor handling"
   ]
  },
  {
   "cell_type": "code",
   "execution_count": 1,
   "metadata": {},
   "outputs": [
    {
     "name": "stdout",
     "output_type": "stream",
     "text": [
      "variable(0.8414709848078965)\n",
      "variable([[ 0.84147098  0.90929743  0.14112001]\n",
      "          [-0.7568025  -0.95892427 -0.2794155 ]])\n",
      "variable([[11 22 33]\n",
      "          [44 55 66]])\n"
     ]
    }
   ],
   "source": [
    "# element-wise operation\n",
    "\n",
    "import numpy as np\n",
    "import dezero.functions as F\n",
    "from dezero import Variable\n",
    "\n",
    "x = Variable(np.array(1.0))\n",
    "y = F.sin(x)\n",
    "print(y)\n",
    "\n",
    "x = Variable(np.array([[1,2,3],[4,5,6]]))\n",
    "y = F.sin(x)\n",
    "print(y)\n",
    "\n",
    "x = Variable(np.array([[1,2,3],[4,5,6]]))\n",
    "c = Variable(np.array([[10,20,30],[40,50,60]]))\n",
    "y = x + c\n",
    "print(y)"
   ]
  },
  {
   "cell_type": "markdown",
   "metadata": {},
   "source": [
    "### tensor 사용 시 역전파\n",
    "지금까지의 역전파 구현은 '스칼라'를 대상으로 하였음. 텐서를 사용한 계산에 역전파를 적용하려면?<br/>\n",
    "사실 이미 텐서에 대해서도 역전파 정상적으로 진행 될 것임.<br/>\n",
    "* 그동안 스칼라를 대상으로 역전파를 구현하였음\n",
    "* 지금까지 구현한 DeZero 함수에 '텐서'를 전달하면 텐서의 원소마다 '스칼라'로 계산한다.\n",
    "* 텐서의 원소별 '스칼라'계산이 이루어지면 '스칼라'를 가정해 구현한 역전파는 '텐서'의 원소별 계산에서도 성립"
   ]
  },
  {
   "cell_type": "code",
   "execution_count": 3,
   "metadata": {},
   "outputs": [
    {
     "name": "stdout",
     "output_type": "stream",
     "text": [
      "variable(1)\n",
      "variable([[1 1 1]\n",
      "          [1 1 1]])\n",
      "variable([[2 2 2]\n",
      "          [2 2 2]])\n",
      "variable([[2 2 2]\n",
      "          [2 2 2]])\n"
     ]
    }
   ],
   "source": [
    "# 원소별 연산에서는 역전파도 미분을 원소별로 곱하여 구한다.\n",
    "x = Variable(np.array([[1,2,3],[4,5,6]]))\n",
    "c = Variable(np.array([[10,20,30],[40,50,60]]))\n",
    "t = 2*(x + c)\n",
    "y = F.sum(t)\n",
    "\n",
    "y.backward(retain_grad = True)\n",
    "print(y.grad)\n",
    "print(t.grad)\n",
    "print(x.grad)\n",
    "print(c.grad)"
   ]
  },
  {
   "cell_type": "markdown",
   "metadata": {},
   "source": [
    "기울기의 shape와 데이터의 shape가 일치한다는 것에 주목하자.  \n",
    "즉, x.shape == x.grad.shape (다른변수들도 마찬가지)  \n",
    "이 성질을 이용하여 원소별 계산이 아닌 함수 (sum, reshape를 구현할 수 있다.)"
   ]
  },
  {
   "cell_type": "markdown",
   "metadata": {},
   "source": [
    "# step 38. 형상 변환 함수\n",
    "앞으로의 step들에서는 원소별 계산이 아닌 다른 함수들에 대해서도 살펴보려고 한다.  \n",
    "그것을 위해 이번 단계에서 reshape와 transpose 함수를 구현해야한다."
   ]
  },
  {
   "cell_type": "code",
   "execution_count": 4,
   "metadata": {},
   "outputs": [
    {
     "name": "stdout",
     "output_type": "stream",
     "text": [
      "[1 2 3 4 5 6]\n"
     ]
    }
   ],
   "source": [
    "# numpy의 reshape\n",
    "import numpy as np\n",
    "\n",
    "x = np.array([[1,2,3],[4,5,6]])\n",
    "y = np.reshape(x, (6,))\n",
    "print(y)"
   ]
  },
  {
   "cell_type": "markdown",
   "metadata": {},
   "source": [
    "reshape 함수는 구체적인 계산은 아무것도 하지 않고 단순히 형상(shape)만 변환한다.  \n",
    "따라서 역전파 시 출력 쪽에서 전해지는 기울기에 어떠한 연산없이 그대로 입력쪽으로 흘려보내는데,  \n",
    "이때 기울기의 형상이 입력의 형상과 같아지도록 변환한다.\n",
    "<img src = \"https://github.com/changdaeoh/DeepLearning-from-scratch/blob/main/images/38_1.png?raw=true\">"
   ]
  },
  {
   "cell_type": "code",
   "execution_count": null,
   "metadata": {},
   "outputs": [],
   "source": [
    "# reshape 구현\n",
    "class Reshape(Function):\n",
    "    def __init__(self, shape):\n",
    "        self.shape = shape # 변형 목표가 되는 shape\n",
    "    \n",
    "    def forward(self, x):\n",
    "        self.x_shape = x.shape # x의 original shape를 기억\n",
    "        y = x.reshape(self.shape) # 넘파이의 reshape함수 이용\n",
    "        return y\n",
    "    \n",
    "    # 연산 없이 형상만 변형 (원래 x의 shape대로)\n",
    "    def backward(self, gy):\n",
    "        return reshape(gy, self.x_shape) # gy는 Variable 객체이므로 별도의 reshape함수 만들어야함\n",
    "    \n",
    "from dezero.core import as_variable\n",
    "\n",
    "def reshape(x, shape):\n",
    "    if x.shape == shape:\n",
    "        return as_variable(x)\n",
    "    return Reshape(shape)(x)"
   ]
  },
  {
   "cell_type": "code",
   "execution_count": 2,
   "metadata": {},
   "outputs": [
    {
     "name": "stdout",
     "output_type": "stream",
     "text": [
      "variable([1 1 1 1 1 1])\n",
      "variable([[1 1 1]\n",
      "          [1 1 1]])\n"
     ]
    }
   ],
   "source": [
    "import numpy as np\n",
    "from dezero import Variable\n",
    "import dezero.functions as F\n",
    "\n",
    "x = Variable(np.array([[1,2,3],[4,5,6]]))\n",
    "y = F.reshape(x, (6,))\n",
    "y.backward(retain_grad = True)\n",
    "print(y.grad)\n",
    "print(x.grad)"
   ]
  },
  {
   "cell_type": "code",
   "execution_count": 3,
   "metadata": {},
   "outputs": [
    {
     "name": "stdout",
     "output_type": "stream",
     "text": [
      "[[1 4]\n",
      " [2 5]\n",
      " [3 6]]\n"
     ]
    }
   ],
   "source": [
    "# numpy의 transpose\n",
    "x = np.array([[1,2,3],[4,5,6]])\n",
    "y = np.transpose(x)\n",
    "print(y)"
   ]
  },
  {
   "cell_type": "code",
   "execution_count": null,
   "metadata": {},
   "outputs": [],
   "source": [
    "# transpose 구현\n",
    "class Transpose(Function):\n",
    "    def forward(self, x):\n",
    "        y = np.transpose(x)\n",
    "        return y\n",
    "    def backward(self, gy):\n",
    "        gx = transpose(gy) # 출력쪽에서 전해지는 기울기를 전치\n",
    "        return gx\n",
    "    \n",
    "def transpose(x):\n",
    "    return Transpose()(x)"
   ]
  },
  {
   "cell_type": "code",
   "execution_count": null,
   "metadata": {},
   "outputs": [],
   "source": [
    "x = Variable(np.array([[1,2,3],[4,5,6]]))\n",
    "y = F.transpose(x)\n",
    "y.backward(retain_grad = True)\n",
    "print(y.grad)\n",
    "print(x.grad)\n",
    "\n",
    "print(x.transpose())\n",
    "print(x.T)"
   ]
  },
  {
   "cell_type": "markdown",
   "metadata": {},
   "source": [
    "# step 39. sum function"
   ]
  },
  {
   "cell_type": "markdown",
   "metadata": {},
   "source": [
    "덧셈의 순전파와 역전파\n",
    "<img src = \"https://github.com/changdaeoh/DeepLearning-from-scratch/blob/main/images/39_1.png?raw=true\" width = \"40%\" height = \"40%\">\n",
    "sum 함수의 순전파와 역전파\n",
    "<img src = \"https://github.com/changdaeoh/DeepLearning-from-scratch/blob/main/images/39_2.png?raw=true\" width = \"40%\" height = \"40%\">"
   ]
  },
  {
   "cell_type": "code",
   "execution_count": null,
   "metadata": {},
   "outputs": [],
   "source": [
    "# sum 함수 구현 - 입력변수의 형상과 같아지도록 기울기 원소를 복사\n",
    "class Sum(Function):\n",
    "    def forward(self, x):\n",
    "        self.x_shape = x.shape # input의 원본 shape를 복사\n",
    "        y = x.sum()\n",
    "        return y\n",
    "    \n",
    "    def backward(self, gy):\n",
    "        gx = broadcast_to(gy, self.x_shape)\n",
    "        return gx\n",
    "    \n",
    "def sum(x):\n",
    "    return Sum()(x)"
   ]
  },
  {
   "cell_type": "code",
   "execution_count": 1,
   "metadata": {},
   "outputs": [
    {
     "name": "stdout",
     "output_type": "stream",
     "text": [
      "variable(21)\n",
      "variable([[1 1 1 1 1 1]])\n",
      "variable(21)\n",
      "variable([[1 1 1]\n",
      "          [1 1 1]])\n"
     ]
    }
   ],
   "source": [
    "import numpy as np\n",
    "from dezero import Variable\n",
    "import dezero.functions as F\n",
    "\n",
    "x = Variable(np.array([[1,2,3,4,5,6]]))\n",
    "y = F.sum(x)\n",
    "y.backward()\n",
    "print(y)\n",
    "print(x.grad)\n",
    "\n",
    "x = Variable(np.array([[1,2,3],[4,5,6]]))\n",
    "y = F.sum(x)\n",
    "y.backward()\n",
    "print(y)\n",
    "print(x.grad)"
   ]
  },
  {
   "cell_type": "code",
   "execution_count": 4,
   "metadata": {},
   "outputs": [
    {
     "name": "stdout",
     "output_type": "stream",
     "text": [
      "[5 7 9]\n",
      "(2, 3)  ->  (3,)\n",
      "[[21]]\n",
      "(1, 1)\n"
     ]
    }
   ],
   "source": [
    "# axis와 keepdims\n",
    "x = np.array([[1,2,3],[4,5,6]])\n",
    "y = np.sum(x, axis = 0) # 덧셈 수행 축 설정\n",
    "print(y)\n",
    "print(x.shape, ' -> ', y.shape)\n",
    "\n",
    "x = np.array([[1,2,3],[4,5,6]])\n",
    "y = np.sum(x, keepdims = True) # 축의 개수 유지\n",
    "print(y)\n",
    "print(y.shape)"
   ]
  },
  {
   "cell_type": "code",
   "execution_count": 3,
   "metadata": {},
   "outputs": [
    {
     "name": "stdout",
     "output_type": "stream",
     "text": [
      "variable([5 7 9])\n",
      "variable([[1 1 1]\n",
      "          [1 1 1]])\n"
     ]
    }
   ],
   "source": [
    "# dezero의 sum함수\n",
    "x = Variable(np.array([[1,2,3],[4,5,6]]))\n",
    "y = F.sum(x, axis = 0) \n",
    "y.backward()\n",
    "print(y)\n",
    "print(x.grad)"
   ]
  },
  {
   "cell_type": "markdown",
   "metadata": {},
   "source": [
    "# step 40. broadcast"
   ]
  },
  {
   "cell_type": "code",
   "execution_count": 1,
   "metadata": {},
   "outputs": [
    {
     "name": "stdout",
     "output_type": "stream",
     "text": [
      "[[1 2 3]\n",
      " [1 2 3]]\n"
     ]
    }
   ],
   "source": [
    "import numpy as np\n",
    "\n",
    "x = np.array([1,2,3])\n",
    "y = np.broadcast_to(x, (2,3))\n",
    "print(y)"
   ]
  },
  {
   "cell_type": "markdown",
   "metadata": {},
   "source": [
    "broadcast 함수의 순전파 -> 지정한 shape가 되게 원소들을 복사  \n",
    "broadcast 함수의 역전파 -> 복사된 기울기를 원래의 shape에 맞게 summation\n",
    "<그림>\n",
    "\n",
    "sum to 함수의 순전파 -> 배열의 원소들을 지정한 shape으로 summation\n",
    "sum to 함수의 역전파 -> 원래의 shape에 맞게 기울기를 복사\n",
    "<그림>"
   ]
  },
  {
   "cell_type": "code",
   "execution_count": null,
   "metadata": {},
   "outputs": [],
   "source": [
    "# broadcast와 sum_to 함수는 상호 의존적\n",
    "class BroadcastTo(Function):\n",
    "    def __init__(self, shape):\n",
    "        self.shape = shape\n",
    "    \n",
    "    def forward(self, x):\n",
    "        self.x_shape = x.shape # save original shape \n",
    "        y = np.broadcast_to(x, self.shape)\n",
    "        return y\n",
    "    \n",
    "    def backward(self, gy):\n",
    "        gx = sum_to(gy, self.x_shape)\n",
    "        return gx\n",
    "    \n",
    "def broadcast_to(x, shape):\n",
    "    if x.shape == shape:\n",
    "        return as_variable(x)\n",
    "    return BroadcastTo(shape)(x)\n",
    "\n",
    "\n",
    "from dezero import untils\n",
    "\n",
    "class SumTo(Function):\n",
    "    def __init__(self, shape):\n",
    "        self.shape = shape\n",
    "        \n",
    "    def forward(self, x):\n",
    "        self.x_shape = x.shape # save original shape \n",
    "        y = utils.sum_to(x, self.shape)\n",
    "        return y\n",
    "    \n",
    "    def backward(self, gy):\n",
    "        gx = broadcast_to(gy, self.x_shape)\n",
    "        return gx\n",
    "    \n",
    "def sum_to(x, shape):\n",
    "    if x.shape == shape:\n",
    "        return as_variable(x)\n",
    "    return SumTo(shape)(x)"
   ]
  },
  {
   "cell_type": "markdown",
   "metadata": {},
   "source": [
    "### 브로드캐스트 대응\n",
    "broadcast는 형상이 다른 다차원 배열끼리의 연산을 가능하게함"
   ]
  },
  {
   "cell_type": "code",
   "execution_count": 2,
   "metadata": {},
   "outputs": [
    {
     "name": "stdout",
     "output_type": "stream",
     "text": [
      "[11 12 13]\n"
     ]
    }
   ],
   "source": [
    "x0 = np.array([1,2,3])\n",
    "x1 = np.array([10])\n",
    "y = x0 + x1\n",
    "print(y)"
   ]
  },
  {
   "cell_type": "code",
   "execution_count": 1,
   "metadata": {},
   "outputs": [
    {
     "name": "stdout",
     "output_type": "stream",
     "text": [
      "variable([11 12 13])\n",
      "variable([1 1 1])\n",
      "variable([3])\n"
     ]
    }
   ],
   "source": [
    "# dezero의 Variable는 ndarray 인스턴스를 사용하여 구현하였기에 순전파시 자동 브로드캐스트\n",
    "# 그러나 역전파는 제대로 이뤄지지 않음 -> ADD 클래스를 수정해줘야함\n",
    "import numpy as np\n",
    "from dezero import Variable\n",
    "\n",
    "x0 = Variable(np.array([1,2,3]))\n",
    "x1 = Variable(np.array([10]))\n",
    "y = x0 + x1\n",
    "print(y)\n",
    "\n",
    "y.backward()\n",
    "# 변수의 shape에 맞게 기울기가 출력!\n",
    "print(x0.grad)\n",
    "print(x1.grad)"
   ]
  },
  {
   "cell_type": "markdown",
   "metadata": {},
   "source": [
    "# step 41. MatMul"
   ]
  },
  {
   "cell_type": "code",
   "execution_count": 2,
   "metadata": {},
   "outputs": [
    {
     "name": "stdout",
     "output_type": "stream",
     "text": [
      "32\n",
      "[[19 22]\n",
      " [43 50]]\n"
     ]
    }
   ],
   "source": [
    "# numpy에서의 내적, 행렬곱\n",
    "a = np.array([1,2,3])\n",
    "b = np.array([4,5,6])\n",
    "c = np.dot(a,b)\n",
    "print(c)\n",
    "\n",
    "a = np.array([[1,2],[3,4]])\n",
    "b = np.array([[5,6],[7,8]])\n",
    "c = np.dot(a, b)\n",
    "print(c)"
   ]
  },
  {
   "cell_type": "markdown",
   "metadata": {},
   "source": [
    "행렬곱 y = XW 에 대한 역전파\n",
    "<그림41_6>"
   ]
  },
  {
   "cell_type": "code",
   "execution_count": null,
   "metadata": {},
   "outputs": [],
   "source": [
    "class MatMul(Function):\n",
    "    def forward(self, x, W):\n",
    "        y = x.dot(W)\n",
    "        return y\n",
    "    \n",
    "    def backward(self, gy):\n",
    "        x, W = self.inputs\n",
    "        gx = matmul(gy, W.T)\n",
    "        gW = matmul(x.T, gy)\n",
    "        return gx, gW\n",
    "\n",
    "def matmul(x, W):\n",
    "    return MatMul()(x, W)"
   ]
  },
  {
   "cell_type": "code",
   "execution_count": 1,
   "metadata": {},
   "outputs": [
    {
     "name": "stdout",
     "output_type": "stream",
     "text": [
      "(2, 3)\n",
      "(3, 4)\n"
     ]
    }
   ],
   "source": [
    "import numpy as np\n",
    "from dezero import Variable\n",
    "import dezero.functions as F\n",
    "\n",
    "x = Variable(np.random.randn(2,3))\n",
    "W = Variable(np.random.randn(3,4))\n",
    "y = F.matmul(x, W)\n",
    "y.backward()\n",
    "\n",
    "print(x.grad.shape)\n",
    "print(W.grad.shape)"
   ]
  }
 ],
 "metadata": {
  "kernelspec": {
   "display_name": "Python 3",
   "language": "python",
   "name": "python3"
  },
  "language_info": {
   "codemirror_mode": {
    "name": "ipython",
    "version": 3
   },
   "file_extension": ".py",
   "mimetype": "text/x-python",
   "name": "python",
   "nbconvert_exporter": "python",
   "pygments_lexer": "ipython3",
   "version": "3.7.6"
  }
 },
 "nbformat": 4,
 "nbformat_minor": 4
}
