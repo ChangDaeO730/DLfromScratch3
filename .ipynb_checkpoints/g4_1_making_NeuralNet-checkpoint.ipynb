{
 "cells": [
  {
   "cell_type": "markdown",
   "metadata": {},
   "source": [
    "# step 37. Tensor handling"
   ]
  },
  {
   "cell_type": "code",
   "execution_count": 1,
   "metadata": {},
   "outputs": [
    {
     "name": "stdout",
     "output_type": "stream",
     "text": [
      "variable(0.8414709848078965)\n",
      "variable([[ 0.84147098  0.90929743  0.14112001]\n",
      "          [-0.7568025  -0.95892427 -0.2794155 ]])\n",
      "variable([[11 22 33]\n",
      "          [44 55 66]])\n"
     ]
    }
   ],
   "source": [
    "# element-wise operation\n",
    "\n",
    "import numpy as np\n",
    "import dezero.functions as F\n",
    "from dezero import Variable\n",
    "\n",
    "x = Variable(np.array(1.0))\n",
    "y = F.sin(x)\n",
    "print(y)\n",
    "\n",
    "x = Variable(np.array([[1,2,3],[4,5,6]]))\n",
    "y = F.sin(x)\n",
    "print(y)\n",
    "\n",
    "x = Variable(np.array([[1,2,3],[4,5,6]]))\n",
    "c = Variable(np.array([[10,20,30],[40,50,60]]))\n",
    "y = x + c\n",
    "print(y)"
   ]
  },
  {
   "cell_type": "markdown",
   "metadata": {},
   "source": [
    "### tensor 사용 시 역전파\n",
    "지금까지의 역전파 구현은 '스칼라'를 대상으로 하였음. 텐서를 사용한 계산에 역전파를 적용하려면?<br/>\n",
    "사실 이미 텐서에 대해서도 역전파 정상적으로 진행 될 것임.<br/>\n",
    "* 그동안 스칼라를 대상으로 역전파를 구현하였음\n",
    "* 지금까지 구현한 DeZero 함수에 '텐서'를 전달하면 텐서의 원소마다 '스칼라'로 계산한다.\n",
    "* 텐서의 원소별 '스칼라'계산이 이루어지면 '스칼라'를 가정해 구현한 역전파는 '텐서'의 원소별 계산에서도 성립"
   ]
  },
  {
   "cell_type": "code",
   "execution_count": 3,
   "metadata": {},
   "outputs": [
    {
     "name": "stdout",
     "output_type": "stream",
     "text": [
      "variable(1)\n",
      "variable([[1 1 1]\n",
      "          [1 1 1]])\n",
      "variable([[2 2 2]\n",
      "          [2 2 2]])\n",
      "variable([[2 2 2]\n",
      "          [2 2 2]])\n"
     ]
    }
   ],
   "source": [
    "# 원소별 연산에서는 역전파도 미분을 원소별로 곱하여 구한다.\n",
    "x = Variable(np.array([[1,2,3],[4,5,6]]))\n",
    "c = Variable(np.array([[10,20,30],[40,50,60]]))\n",
    "t = 2*(x + c)\n",
    "y = F.sum(t)\n",
    "\n",
    "y.backward(retain_grad = True)\n",
    "print(y.grad)\n",
    "print(t.grad)\n",
    "print(x.grad)\n",
    "print(c.grad)"
   ]
  },
  {
   "cell_type": "markdown",
   "metadata": {},
   "source": [
    "기울기의 shape와 데이터의 shape가 일치한다는 것에 주목하자.  \n",
    "즉, x.shape == x.grad.shape (다른변수들도 마찬가지)  \n",
    "이 성질을 이용하여 원소별 계산이 아닌 함수 (sum, reshape를 구현할 수 있다.)"
   ]
  },
  {
   "cell_type": "markdown",
   "metadata": {},
   "source": [
    "# step 38. 형상 변환 함수\n",
    "앞으로의 step들에서는 원소별 계산이 아닌 다른 함수들에 대해서도 살펴보려고 한다.  \n",
    "그것을 위해 이번 단계에서 reshape와 transpose 함수를 구현해야한다."
   ]
  },
  {
   "cell_type": "code",
   "execution_count": 4,
   "metadata": {},
   "outputs": [
    {
     "name": "stdout",
     "output_type": "stream",
     "text": [
      "[1 2 3 4 5 6]\n"
     ]
    }
   ],
   "source": [
    "# reshape 함수의 구현\n",
    "import numpy as np\n",
    "\n",
    "x = np.array([[1,2,3],[4,5,6]])\n",
    "y = np.reshape(x, (6,))\n",
    "print(y)"
   ]
  },
  {
   "cell_type": "markdown",
   "metadata": {},
   "source": [
    "reshape 함수는 구체적인 계산은 아무것도 하지 않고 단순히 형상(shape)만 변환한다.  \n",
    "따라서 역전파 시 출력 쪽에서 전해지는 기울기에 어떠한 연산없이 그대로 입력쪽으로 흘려보내는데,  \n",
    "이때 기울기의 형상이 입력의 형상과 같아지도록 변환한다.\n",
    "<그림38-1>"
   ]
  },
  {
   "cell_type": "code",
   "execution_count": null,
   "metadata": {},
   "outputs": [],
   "source": [
    "class Reshape(Function):\n",
    "    def __init__(self, shape):\n",
    "        self.shape = shape # 변형 목표가 되는 shape\n",
    "    \n",
    "    def forward(self, x):\n",
    "        self.x_shape = x.shape # x의 original shape를 기억\n",
    "        y = x.reshape(self.shape) # 넘파이의 reshape함수 이용\n",
    "        return y\n",
    "    \n",
    "    # 연산 없이 형상만 변형 (원래 x의 shape대로)\n",
    "    def backward(self, gy):\n",
    "        return reshape(gy, self.x_shape) # gy는 Variable 객체이므로 별도의 reshape함수 만들어야함\n",
    "    \n",
    "from dezero.core import as_variable\n",
    "\n",
    "def reshape(x, shape):\n",
    "    if x.shape == shape:\n",
    "        return as_variable(x)\n",
    "    return Reshape(shape)(x)"
   ]
  },
  {
   "cell_type": "code",
   "execution_count": null,
   "metadata": {},
   "outputs": [],
   "source": [
    "import numpy as np\n",
    "from dezero import Variable\n",
    "import dezero.functions as f\n",
    "\n",
    "x = Variable(np.array([[1,2,3],[4,5,6]]))\n",
    "y = F.reshape(x, (6,))\n",
    "y.backward(retain_grad = True)\n",
    "print(x.grad)"
   ]
  }
 ],
 "metadata": {
  "kernelspec": {
   "display_name": "Python 3",
   "language": "python",
   "name": "python3"
  },
  "language_info": {
   "codemirror_mode": {
    "name": "ipython",
    "version": 3
   },
   "file_extension": ".py",
   "mimetype": "text/x-python",
   "name": "python",
   "nbconvert_exporter": "python",
   "pygments_lexer": "ipython3",
   "version": "3.7.6"
  }
 },
 "nbformat": 4,
 "nbformat_minor": 4
}
